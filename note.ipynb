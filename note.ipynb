{
 "cells": [
  {
   "cell_type": "code",
   "execution_count": 5,
   "metadata": {},
   "outputs": [
    {
     "data": {
      "text/plain": [
       "[-2 + sqrt(5), -sqrt(5) - 2]"
      ]
     },
     "execution_count": 5,
     "metadata": {},
     "output_type": "execute_result"
    }
   ],
   "source": [
    "from sympy.solvers import solve\n",
    "from sympy import Symbol\n",
    "\n",
    "\n",
    "x = Symbol('x')\n",
    "solve(x**2+4*x-1,x)"
   ]
  },
  {
   "cell_type": "code",
   "execution_count": 7,
   "metadata": {},
   "outputs": [
    {
     "data": {
      "text/latex": [
       "$\\displaystyle 2.46740110027234$"
      ],
      "text/plain": [
       "2.46740110027234"
      ]
     },
     "execution_count": 7,
     "metadata": {},
     "output_type": "execute_result"
    }
   ],
   "source": [
    "from sympy import *\n",
    "\n",
    "N(pi**2/4)"
   ]
  },
  {
   "cell_type": "code",
   "execution_count": 35,
   "metadata": {},
   "outputs": [
    {
     "name": "stdout",
     "output_type": "stream",
     "text": [
      "262144 + 262144*sqrt(3)\n",
      "-262144 + 262144*sqrt(3)\n",
      "-----------------------------------\n",
      "voyage, voyage.... :  1\n",
      "6\n"
     ]
    }
   ],
   "source": [
    "from sympy import re, im, I, E\n",
    "from sympy.abc import x, y\n",
    "\n",
    "from sympy import *\n",
    "\n",
    "\n",
    "\n",
    "print(im(((1+I*sqrt(3))**20 / (1+I))))\n",
    "\n",
    "print(re(((1+I*sqrt(3))**20 / (1+I))))\n",
    "\n",
    "print(\"-----------------------------------\")\n",
    "\n",
    "print(\"voyage, voyage.... : \",limit(sin(x)/x,x,0))\n",
    "\n",
    "\n",
    "print(factorial(3))\n",
    "\n"
   ]
  },
  {
   "cell_type": "code",
   "execution_count": null,
   "metadata": {},
   "outputs": [],
   "source": []
  },
  {
   "cell_type": "code",
   "execution_count": null,
   "metadata": {},
   "outputs": [],
   "source": []
  },
  {
   "cell_type": "code",
   "execution_count": null,
   "metadata": {},
   "outputs": [],
   "source": []
  }
 ],
 "metadata": {
  "kernelspec": {
   "display_name": "Python 3",
   "language": "python",
   "name": "python3"
  },
  "language_info": {
   "codemirror_mode": {
    "name": "ipython",
    "version": 3
   },
   "file_extension": ".py",
   "mimetype": "text/x-python",
   "name": "python",
   "nbconvert_exporter": "python",
   "pygments_lexer": "ipython3",
   "version": "3.7.6"
  }
 },
 "nbformat": 4,
 "nbformat_minor": 4
}
